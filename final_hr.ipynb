{
 "cells": [
  {
   "cell_type": "markdown",
   "id": "monetary-county",
   "metadata": {},
   "source": [
    "## HR Promotion Prediction:\n",
    "\n",
    "\n",
    "> HR analytics is revolutionising the way human resources departments operate, leading to higher efficiency and better results overall. Human resources has been using analytics for years. However, the collection, processing and analysis of data has been largely manual, and given the nature of human resources dynamics and HR KPIs, the approach has been constraining HR. Therefore, it is surprising that HR departments woke up to the utility of machine learning so late in the game. Here is an opportunity to try predictive analytics in identifying the employees most likely to get promoted.\n",
    "> ##### You can find the original datast [here](https://www.kaggle.com/bhrt97/hr-analytics-classification?select=train_LZdllcl.csv)\n",
    "### Table of Contents\n",
    "<ul>\n",
    "<li><a href=\"#assess\">Data Assessment</a></li>\n",
    "<li><a href=\"#clean\">Cleaning</a></li>\n",
    "<li><a href=\"#predict\">Prediction model</a></li>\n",
    "</ul>"
   ]
  },
  {
   "cell_type": "markdown",
   "id": "addressed-discount",
   "metadata": {},
   "source": [
    "<a id='assess'></a>\n",
    "## Data Assessment:"
   ]
  },
  {
   "cell_type": "code",
   "execution_count": 1,
   "id": "seven-butterfly",
   "metadata": {},
   "outputs": [],
   "source": [
    "# import all packages and set plots to be embedded inline\n",
    "import numpy as np\n",
    "import pandas as pd\n",
    "\n",
    "from sklearn.impute import SimpleImputer\n",
    "\n",
    "import matplotlib.pyplot as plt\n",
    "import seaborn as sns\n",
    "%matplotlib inline\n",
    "\n",
    "from imblearn.over_sampling import SMOTE \n",
    "from sklearn.model_selection import train_test_split\n",
    "from sklearn.feature_selection import SelectKBest, f_classif\n",
    "\n",
    "from sklearn.pipeline import make_pipeline\n",
    "from sklearn.preprocessing import StandardScaler\n",
    "from sklearn.linear_model import LogisticRegression as lr\n",
    "\n",
    "from sklearn import metrics\n",
    "\n",
    "from sklearn.ensemble import RandomForestClassifier\n",
    "\n",
    "\n",
    "import warnings\n",
    "warnings.filterwarnings('ignore')"
   ]
  },
  {
   "cell_type": "code",
   "execution_count": 2,
   "id": "working-initial",
   "metadata": {
    "scrolled": true
   },
   "outputs": [
    {
     "data": {
      "text/html": [
       "<div>\n",
       "<style scoped>\n",
       "    .dataframe tbody tr th:only-of-type {\n",
       "        vertical-align: middle;\n",
       "    }\n",
       "\n",
       "    .dataframe tbody tr th {\n",
       "        vertical-align: top;\n",
       "    }\n",
       "\n",
       "    .dataframe thead th {\n",
       "        text-align: right;\n",
       "    }\n",
       "</style>\n",
       "<table border=\"1\" class=\"dataframe\">\n",
       "  <thead>\n",
       "    <tr style=\"text-align: right;\">\n",
       "      <th></th>\n",
       "      <th>id</th>\n",
       "      <th>department</th>\n",
       "      <th>education</th>\n",
       "      <th>gender</th>\n",
       "      <th>trainings</th>\n",
       "      <th>age</th>\n",
       "      <th>prev_year_rating</th>\n",
       "      <th>experience</th>\n",
       "      <th>KPI_80</th>\n",
       "      <th>awards_won</th>\n",
       "      <th>avg_training_score</th>\n",
       "      <th>promoted</th>\n",
       "    </tr>\n",
       "  </thead>\n",
       "  <tbody>\n",
       "    <tr>\n",
       "      <th>236</th>\n",
       "      <td>71339</td>\n",
       "      <td>Technology</td>\n",
       "      <td>Bachelor's</td>\n",
       "      <td>m</td>\n",
       "      <td>1</td>\n",
       "      <td>35</td>\n",
       "      <td>3.0</td>\n",
       "      <td>8</td>\n",
       "      <td>0</td>\n",
       "      <td>0</td>\n",
       "      <td>78</td>\n",
       "      <td>0</td>\n",
       "    </tr>\n",
       "    <tr>\n",
       "      <th>10147</th>\n",
       "      <td>42506</td>\n",
       "      <td>Sales &amp; Marketing</td>\n",
       "      <td>Master's &amp; above</td>\n",
       "      <td>m</td>\n",
       "      <td>1</td>\n",
       "      <td>37</td>\n",
       "      <td>3.0</td>\n",
       "      <td>4</td>\n",
       "      <td>0</td>\n",
       "      <td>0</td>\n",
       "      <td>49</td>\n",
       "      <td>0</td>\n",
       "    </tr>\n",
       "    <tr>\n",
       "      <th>24055</th>\n",
       "      <td>68505</td>\n",
       "      <td>Technology</td>\n",
       "      <td>Bachelor's</td>\n",
       "      <td>f</td>\n",
       "      <td>1</td>\n",
       "      <td>40</td>\n",
       "      <td>3.0</td>\n",
       "      <td>11</td>\n",
       "      <td>0</td>\n",
       "      <td>0</td>\n",
       "      <td>77</td>\n",
       "      <td>0</td>\n",
       "    </tr>\n",
       "    <tr>\n",
       "      <th>22662</th>\n",
       "      <td>68626</td>\n",
       "      <td>Sales &amp; Marketing</td>\n",
       "      <td>NaN</td>\n",
       "      <td>m</td>\n",
       "      <td>4</td>\n",
       "      <td>24</td>\n",
       "      <td>NaN</td>\n",
       "      <td>1</td>\n",
       "      <td>0</td>\n",
       "      <td>0</td>\n",
       "      <td>51</td>\n",
       "      <td>0</td>\n",
       "    </tr>\n",
       "    <tr>\n",
       "      <th>42128</th>\n",
       "      <td>55995</td>\n",
       "      <td>Procurement</td>\n",
       "      <td>Bachelor's</td>\n",
       "      <td>f</td>\n",
       "      <td>1</td>\n",
       "      <td>31</td>\n",
       "      <td>5.0</td>\n",
       "      <td>5</td>\n",
       "      <td>0</td>\n",
       "      <td>0</td>\n",
       "      <td>72</td>\n",
       "      <td>0</td>\n",
       "    </tr>\n",
       "  </tbody>\n",
       "</table>\n",
       "</div>"
      ],
      "text/plain": [
       "          id         department         education gender  trainings  age  \\\n",
       "236    71339         Technology        Bachelor's      m          1   35   \n",
       "10147  42506  Sales & Marketing  Master's & above      m          1   37   \n",
       "24055  68505         Technology        Bachelor's      f          1   40   \n",
       "22662  68626  Sales & Marketing               NaN      m          4   24   \n",
       "42128  55995        Procurement        Bachelor's      f          1   31   \n",
       "\n",
       "       prev_year_rating  experience  KPI_80  awards_won  avg_training_score  \\\n",
       "236                 3.0           8       0           0                  78   \n",
       "10147               3.0           4       0           0                  49   \n",
       "24055               3.0          11       0           0                  77   \n",
       "22662               NaN           1       0           0                  51   \n",
       "42128               5.0           5       0           0                  72   \n",
       "\n",
       "       promoted  \n",
       "236           0  \n",
       "10147         0  \n",
       "24055         0  \n",
       "22662         0  \n",
       "42128         0  "
      ]
     },
     "execution_count": 2,
     "metadata": {},
     "output_type": "execute_result"
    }
   ],
   "source": [
    "# Reading our dataset and assessing it\n",
    "train_df = pd.read_csv('train_data.csv')\n",
    "\n",
    "train_df.sample(5)"
   ]
  },
  {
   "cell_type": "code",
   "execution_count": 3,
   "id": "immune-checklist",
   "metadata": {},
   "outputs": [
    {
     "name": "stdout",
     "output_type": "stream",
     "text": [
      "<class 'pandas.core.frame.DataFrame'>\n",
      "RangeIndex: 54808 entries, 0 to 54807\n",
      "Data columns (total 12 columns):\n",
      " #   Column              Non-Null Count  Dtype  \n",
      "---  ------              --------------  -----  \n",
      " 0   id                  54808 non-null  int64  \n",
      " 1   department          54808 non-null  object \n",
      " 2   education           52399 non-null  object \n",
      " 3   gender              54808 non-null  object \n",
      " 4   trainings           54808 non-null  int64  \n",
      " 5   age                 54808 non-null  int64  \n",
      " 6   prev_year_rating    50684 non-null  float64\n",
      " 7   experience          54808 non-null  int64  \n",
      " 8   KPI_80              54808 non-null  int64  \n",
      " 9   awards_won          54808 non-null  int64  \n",
      " 10  avg_training_score  54808 non-null  int64  \n",
      " 11  promoted            54808 non-null  int64  \n",
      "dtypes: float64(1), int64(8), object(3)\n",
      "memory usage: 5.0+ MB\n"
     ]
    }
   ],
   "source": [
    "train_df.info()"
   ]
  },
  {
   "cell_type": "code",
   "execution_count": 4,
   "id": "subsequent-burlington",
   "metadata": {},
   "outputs": [
    {
     "data": {
      "text/html": [
       "<div>\n",
       "<style scoped>\n",
       "    .dataframe tbody tr th:only-of-type {\n",
       "        vertical-align: middle;\n",
       "    }\n",
       "\n",
       "    .dataframe tbody tr th {\n",
       "        vertical-align: top;\n",
       "    }\n",
       "\n",
       "    .dataframe thead th {\n",
       "        text-align: right;\n",
       "    }\n",
       "</style>\n",
       "<table border=\"1\" class=\"dataframe\">\n",
       "  <thead>\n",
       "    <tr style=\"text-align: right;\">\n",
       "      <th></th>\n",
       "      <th>id</th>\n",
       "      <th>trainings</th>\n",
       "      <th>age</th>\n",
       "      <th>prev_year_rating</th>\n",
       "      <th>experience</th>\n",
       "      <th>KPI_80</th>\n",
       "      <th>awards_won</th>\n",
       "      <th>avg_training_score</th>\n",
       "      <th>promoted</th>\n",
       "    </tr>\n",
       "  </thead>\n",
       "  <tbody>\n",
       "    <tr>\n",
       "      <th>count</th>\n",
       "      <td>54808.000000</td>\n",
       "      <td>54808.000000</td>\n",
       "      <td>54808.000000</td>\n",
       "      <td>50684.000000</td>\n",
       "      <td>54808.000000</td>\n",
       "      <td>54808.000000</td>\n",
       "      <td>54808.000000</td>\n",
       "      <td>54808.000000</td>\n",
       "      <td>54808.000000</td>\n",
       "    </tr>\n",
       "    <tr>\n",
       "      <th>mean</th>\n",
       "      <td>39195.830627</td>\n",
       "      <td>1.253011</td>\n",
       "      <td>34.803915</td>\n",
       "      <td>3.329256</td>\n",
       "      <td>5.865512</td>\n",
       "      <td>0.351974</td>\n",
       "      <td>0.023172</td>\n",
       "      <td>63.386750</td>\n",
       "      <td>0.085170</td>\n",
       "    </tr>\n",
       "    <tr>\n",
       "      <th>std</th>\n",
       "      <td>22586.581449</td>\n",
       "      <td>0.609264</td>\n",
       "      <td>7.660169</td>\n",
       "      <td>1.259993</td>\n",
       "      <td>4.265094</td>\n",
       "      <td>0.477590</td>\n",
       "      <td>0.150450</td>\n",
       "      <td>13.371559</td>\n",
       "      <td>0.279137</td>\n",
       "    </tr>\n",
       "    <tr>\n",
       "      <th>min</th>\n",
       "      <td>1.000000</td>\n",
       "      <td>1.000000</td>\n",
       "      <td>20.000000</td>\n",
       "      <td>1.000000</td>\n",
       "      <td>1.000000</td>\n",
       "      <td>0.000000</td>\n",
       "      <td>0.000000</td>\n",
       "      <td>39.000000</td>\n",
       "      <td>0.000000</td>\n",
       "    </tr>\n",
       "    <tr>\n",
       "      <th>25%</th>\n",
       "      <td>19669.750000</td>\n",
       "      <td>1.000000</td>\n",
       "      <td>29.000000</td>\n",
       "      <td>3.000000</td>\n",
       "      <td>3.000000</td>\n",
       "      <td>0.000000</td>\n",
       "      <td>0.000000</td>\n",
       "      <td>51.000000</td>\n",
       "      <td>0.000000</td>\n",
       "    </tr>\n",
       "    <tr>\n",
       "      <th>50%</th>\n",
       "      <td>39225.500000</td>\n",
       "      <td>1.000000</td>\n",
       "      <td>33.000000</td>\n",
       "      <td>3.000000</td>\n",
       "      <td>5.000000</td>\n",
       "      <td>0.000000</td>\n",
       "      <td>0.000000</td>\n",
       "      <td>60.000000</td>\n",
       "      <td>0.000000</td>\n",
       "    </tr>\n",
       "    <tr>\n",
       "      <th>75%</th>\n",
       "      <td>58730.500000</td>\n",
       "      <td>1.000000</td>\n",
       "      <td>39.000000</td>\n",
       "      <td>4.000000</td>\n",
       "      <td>7.000000</td>\n",
       "      <td>1.000000</td>\n",
       "      <td>0.000000</td>\n",
       "      <td>76.000000</td>\n",
       "      <td>0.000000</td>\n",
       "    </tr>\n",
       "    <tr>\n",
       "      <th>max</th>\n",
       "      <td>78298.000000</td>\n",
       "      <td>10.000000</td>\n",
       "      <td>60.000000</td>\n",
       "      <td>5.000000</td>\n",
       "      <td>37.000000</td>\n",
       "      <td>1.000000</td>\n",
       "      <td>1.000000</td>\n",
       "      <td>99.000000</td>\n",
       "      <td>1.000000</td>\n",
       "    </tr>\n",
       "  </tbody>\n",
       "</table>\n",
       "</div>"
      ],
      "text/plain": [
       "                 id     trainings           age  prev_year_rating  \\\n",
       "count  54808.000000  54808.000000  54808.000000      50684.000000   \n",
       "mean   39195.830627      1.253011     34.803915          3.329256   \n",
       "std    22586.581449      0.609264      7.660169          1.259993   \n",
       "min        1.000000      1.000000     20.000000          1.000000   \n",
       "25%    19669.750000      1.000000     29.000000          3.000000   \n",
       "50%    39225.500000      1.000000     33.000000          3.000000   \n",
       "75%    58730.500000      1.000000     39.000000          4.000000   \n",
       "max    78298.000000     10.000000     60.000000          5.000000   \n",
       "\n",
       "         experience        KPI_80    awards_won  avg_training_score  \\\n",
       "count  54808.000000  54808.000000  54808.000000        54808.000000   \n",
       "mean       5.865512      0.351974      0.023172           63.386750   \n",
       "std        4.265094      0.477590      0.150450           13.371559   \n",
       "min        1.000000      0.000000      0.000000           39.000000   \n",
       "25%        3.000000      0.000000      0.000000           51.000000   \n",
       "50%        5.000000      0.000000      0.000000           60.000000   \n",
       "75%        7.000000      1.000000      0.000000           76.000000   \n",
       "max       37.000000      1.000000      1.000000           99.000000   \n",
       "\n",
       "           promoted  \n",
       "count  54808.000000  \n",
       "mean       0.085170  \n",
       "std        0.279137  \n",
       "min        0.000000  \n",
       "25%        0.000000  \n",
       "50%        0.000000  \n",
       "75%        0.000000  \n",
       "max        1.000000  "
      ]
     },
     "execution_count": 4,
     "metadata": {},
     "output_type": "execute_result"
    }
   ],
   "source": [
    "train_df.describe()"
   ]
  },
  {
   "cell_type": "code",
   "execution_count": 5,
   "id": "fifty-fourth",
   "metadata": {
    "scrolled": true
   },
   "outputs": [
    {
     "data": {
      "image/png": "[encoded data removed]",
      "text/plain": [
       "<Figure size 1080x360 with 1 Axes>"
      ]
     },
     "metadata": {},
     "output_type": "display_data"
    }
   ],
   "source": [
    "#styling the visualization\n",
    "plt.style.use(\"ggplot\")\n",
    "base_color = sns.color_palette()[0]\n",
    "plt.figure(figsize=(15,5))\n",
    "\n",
    "# previous year trainings distrbution\n",
    "trainings_count = train_df.trainings.value_counts()\n",
    "\n",
    "sns.barplot( x = trainings_count.index, y = trainings_count, color = base_color)\n",
    "plt.xlabel('Trainings')\n",
    "plt.ylabel('Number of Employees')\n",
    "plt.title('Previous Year Trainings')\n",
    "\n",
    "plt.tight_layout;"
   ]
  },
  {
   "cell_type": "code",
   "execution_count": 6,
   "id": "apparent-consortium",
   "metadata": {
    "scrolled": true
   },
   "outputs": [
    {
     "data": {
      "image/png": "[encoded data removed]",
      "text/plain": [
       "<Figure size 1080x360 with 1 Axes>"
      ]
     },
     "metadata": {},
     "output_type": "display_data"
    }
   ],
   "source": [
    "# experience distrbution\n",
    "plt.figure(figsize=(15,5))\n",
    "\n",
    "experience_count = train_df.experience.value_counts()\n",
    "\n",
    "sns.barplot( x = experience_count.index, y = experience_count, color = base_color)\n",
    "plt.title('Experience')\n",
    "plt.xlabel('Years of Experience')\n",
    "plt.ylabel('Number of Employees');"
   ]
  },
  {
   "cell_type": "code",
   "execution_count": 7,
   "id": "tired-processor",
   "metadata": {
    "scrolled": true
   },
   "outputs": [
    {
     "data": {
      "text/plain": [
       "0"
      ]
     },
     "execution_count": 7,
     "metadata": {},
     "output_type": "execute_result"
    }
   ],
   "source": [
    "train_df.duplicated().sum()"
   ]
  },
  {
   "cell_type": "markdown",
   "id": "quality-cache",
   "metadata": {},
   "source": [
    "## Quality Issues:\n",
    "* outliers in trainings and experience columns.\n",
    "* nulls in education and prev_year_rating columns."
   ]
  },
  {
   "cell_type": "markdown",
   "id": "departmental-wheel",
   "metadata": {},
   "source": [
    "<a id='clean'></a>\n",
    "## Data Cleaning:"
   ]
  },
  {
   "cell_type": "code",
   "execution_count": 8,
   "id": "buried-nursing",
   "metadata": {},
   "outputs": [],
   "source": [
    "# make a copy of the original data\n",
    "clean_train = train_df.copy()"
   ]
  },
  {
   "cell_type": "code",
   "execution_count": 9,
   "id": "young-wings",
   "metadata": {
    "scrolled": true
   },
   "outputs": [
    {
     "data": {
      "image/png": "[encoded data removed]",
      "text/plain": [
       "<Figure size 1080x360 with 1 Axes>"
      ]
     },
     "metadata": {},
     "output_type": "display_data"
    }
   ],
   "source": [
    "#Removing outliers from trainings\n",
    "trainings_quantile = clean_train.trainings.quantile(0.99)\n",
    "clean_train = clean_train[(clean_train.trainings < trainings_quantile)]\n",
    "\n",
    "#testing\n",
    "plt.figure(figsize=(15,5))\n",
    "\n",
    "trainings_count = clean_train.trainings.value_counts()\n",
    "\n",
    "sns.barplot( x = trainings_count.index, y = trainings_count, color = base_color)\n",
    "plt.xlabel('Trainings')\n",
    "plt.ylabel('Number of Employees')\n",
    "plt.title('Previous Year Trainings');"
   ]
  },
  {
   "cell_type": "code",
   "execution_count": 10,
   "id": "nuclear-cabinet",
   "metadata": {
    "scrolled": false
   },
   "outputs": [
    {
     "data": {
      "image/png": "[encoded data removed]",
      "text/plain": [
       "<Figure size 1080x360 with 1 Axes>"
      ]
     },
     "metadata": {},
     "output_type": "display_data"
    }
   ],
   "source": [
    "#Removing outliers from trainings\n",
    "experience_quantile = clean_train.experience.quantile(0.97)\n",
    "clean_train = clean_train[(clean_train.experience < experience_quantile)]\n",
    "\n",
    "#testing\n",
    "plt.figure(figsize=(15,5))\n",
    "\n",
    "experience_count = clean_train.experience.value_counts()\n",
    "\n",
    "sns.barplot( x = experience_count.index, y = experience_count, color = base_color)\n",
    "plt.title('Experience')\n",
    "plt.xlabel('Years of Experience')\n",
    "plt.ylabel('Number of Employees');"
   ]
  },
  {
   "cell_type": "code",
   "execution_count": 12,
   "id": "received-proof",
   "metadata": {},
   "outputs": [
    {
     "data": {
      "text/plain": [
       "0"
      ]
     },
     "execution_count": 12,
     "metadata": {},
     "output_type": "execute_result"
    }
   ],
   "source": [
    "#replacing the nulls in prev_year_rating with median\n",
    "Imputed_ratings = SimpleImputer(strategy = 'median').fit(clean_train[['prev_year_rating']])\n",
    "clean_train.prev_year_rating = Imputed_ratings.transform(clean_train[['prev_year_rating']])\n",
    "\n",
    "#testing\n",
    "clean_train.prev_year_rating.isnull().sum()"
   ]
  },
  {
   "cell_type": "code",
   "execution_count": 13,
   "id": "amino-sequence",
   "metadata": {
    "scrolled": true
   },
   "outputs": [
    {
     "data": {
      "text/plain": [
       "0"
      ]
     },
     "execution_count": 13,
     "metadata": {},
     "output_type": "execute_result"
    }
   ],
   "source": [
    "#replacing the nulls in education with most frequent value\n",
    "Imputed_edu = SimpleImputer(strategy = 'most_frequent').fit(clean_train[['education']])\n",
    "clean_train.education = Imputed_edu.transform(clean_train[['education']])\n",
    "\n",
    "#testing\n",
    "clean_train.education.isnull().sum()"
   ]
  },
  {
   "cell_type": "code",
   "execution_count": 14,
   "id": "exempt-growing",
   "metadata": {},
   "outputs": [],
   "source": [
    "# final touch ✨\n",
    "clean_train.reset_index(drop = True, inplace = True)\n",
    "\n",
    "# Storing the final dataset\n",
    "clean_train.to_csv('clean_train.csv', index = False)"
   ]
  },
  {
   "cell_type": "markdown",
   "id": "biological-coordinator",
   "metadata": {},
   "source": [
    "<a id='predict'></a>\n",
    "## Prediction models:"
   ]
  },
  {
   "cell_type": "code",
   "execution_count": 15,
   "id": "norwegian-ghost",
   "metadata": {},
   "outputs": [
    {
     "data": {
      "text/html": [
       "<div>\n",
       "<style scoped>\n",
       "    .dataframe tbody tr th:only-of-type {\n",
       "        vertical-align: middle;\n",
       "    }\n",
       "\n",
       "    .dataframe tbody tr th {\n",
       "        vertical-align: top;\n",
       "    }\n",
       "\n",
       "    .dataframe thead th {\n",
       "        text-align: right;\n",
       "    }\n",
       "</style>\n",
       "<table border=\"1\" class=\"dataframe\">\n",
       "  <thead>\n",
       "    <tr style=\"text-align: right;\">\n",
       "      <th></th>\n",
       "      <th>education</th>\n",
       "      <th>trainings</th>\n",
       "      <th>age</th>\n",
       "      <th>prev_year_rating</th>\n",
       "      <th>experience</th>\n",
       "      <th>KPI_80</th>\n",
       "      <th>awards_won</th>\n",
       "      <th>avg_training_score</th>\n",
       "      <th>promoted</th>\n",
       "      <th>department_Analytics</th>\n",
       "      <th>department_Finance</th>\n",
       "      <th>department_HR</th>\n",
       "      <th>department_Legal</th>\n",
       "      <th>department_Operations</th>\n",
       "      <th>department_Procurement</th>\n",
       "      <th>department_R&amp;D</th>\n",
       "      <th>department_Sales &amp; Marketing</th>\n",
       "      <th>department_Technology</th>\n",
       "      <th>gender_f</th>\n",
       "      <th>gender_m</th>\n",
       "    </tr>\n",
       "  </thead>\n",
       "  <tbody>\n",
       "    <tr>\n",
       "      <th>5066</th>\n",
       "      <td>2</td>\n",
       "      <td>3</td>\n",
       "      <td>25</td>\n",
       "      <td>3.0</td>\n",
       "      <td>1</td>\n",
       "      <td>0</td>\n",
       "      <td>0</td>\n",
       "      <td>47</td>\n",
       "      <td>0</td>\n",
       "      <td>0</td>\n",
       "      <td>0</td>\n",
       "      <td>0</td>\n",
       "      <td>0</td>\n",
       "      <td>0</td>\n",
       "      <td>0</td>\n",
       "      <td>0</td>\n",
       "      <td>1</td>\n",
       "      <td>0</td>\n",
       "      <td>0</td>\n",
       "      <td>1</td>\n",
       "    </tr>\n",
       "    <tr>\n",
       "      <th>22468</th>\n",
       "      <td>3</td>\n",
       "      <td>1</td>\n",
       "      <td>36</td>\n",
       "      <td>5.0</td>\n",
       "      <td>7</td>\n",
       "      <td>0</td>\n",
       "      <td>0</td>\n",
       "      <td>78</td>\n",
       "      <td>0</td>\n",
       "      <td>0</td>\n",
       "      <td>0</td>\n",
       "      <td>0</td>\n",
       "      <td>0</td>\n",
       "      <td>0</td>\n",
       "      <td>0</td>\n",
       "      <td>0</td>\n",
       "      <td>0</td>\n",
       "      <td>1</td>\n",
       "      <td>0</td>\n",
       "      <td>1</td>\n",
       "    </tr>\n",
       "    <tr>\n",
       "      <th>12341</th>\n",
       "      <td>2</td>\n",
       "      <td>1</td>\n",
       "      <td>31</td>\n",
       "      <td>3.0</td>\n",
       "      <td>7</td>\n",
       "      <td>0</td>\n",
       "      <td>0</td>\n",
       "      <td>49</td>\n",
       "      <td>0</td>\n",
       "      <td>0</td>\n",
       "      <td>0</td>\n",
       "      <td>0</td>\n",
       "      <td>0</td>\n",
       "      <td>0</td>\n",
       "      <td>0</td>\n",
       "      <td>0</td>\n",
       "      <td>1</td>\n",
       "      <td>0</td>\n",
       "      <td>0</td>\n",
       "      <td>1</td>\n",
       "    </tr>\n",
       "    <tr>\n",
       "      <th>44564</th>\n",
       "      <td>3</td>\n",
       "      <td>1</td>\n",
       "      <td>41</td>\n",
       "      <td>3.0</td>\n",
       "      <td>10</td>\n",
       "      <td>1</td>\n",
       "      <td>0</td>\n",
       "      <td>55</td>\n",
       "      <td>0</td>\n",
       "      <td>0</td>\n",
       "      <td>0</td>\n",
       "      <td>0</td>\n",
       "      <td>0</td>\n",
       "      <td>1</td>\n",
       "      <td>0</td>\n",
       "      <td>0</td>\n",
       "      <td>0</td>\n",
       "      <td>0</td>\n",
       "      <td>0</td>\n",
       "      <td>1</td>\n",
       "    </tr>\n",
       "    <tr>\n",
       "      <th>8999</th>\n",
       "      <td>2</td>\n",
       "      <td>1</td>\n",
       "      <td>39</td>\n",
       "      <td>4.0</td>\n",
       "      <td>5</td>\n",
       "      <td>0</td>\n",
       "      <td>0</td>\n",
       "      <td>45</td>\n",
       "      <td>0</td>\n",
       "      <td>0</td>\n",
       "      <td>0</td>\n",
       "      <td>1</td>\n",
       "      <td>0</td>\n",
       "      <td>0</td>\n",
       "      <td>0</td>\n",
       "      <td>0</td>\n",
       "      <td>0</td>\n",
       "      <td>0</td>\n",
       "      <td>1</td>\n",
       "      <td>0</td>\n",
       "    </tr>\n",
       "  </tbody>\n",
       "</table>\n",
       "</div>"
      ],
      "text/plain": [
       "       education  trainings  age  prev_year_rating  experience  KPI_80  \\\n",
       "5066           2          3   25               3.0           1       0   \n",
       "22468          3          1   36               5.0           7       0   \n",
       "12341          2          1   31               3.0           7       0   \n",
       "44564          3          1   41               3.0          10       1   \n",
       "8999           2          1   39               4.0           5       0   \n",
       "\n",
       "       awards_won  avg_training_score  promoted  department_Analytics  \\\n",
       "5066            0                  47         0                     0   \n",
       "22468           0                  78         0                     0   \n",
       "12341           0                  49         0                     0   \n",
       "44564           0                  55         0                     0   \n",
       "8999            0                  45         0                     0   \n",
       "\n",
       "       department_Finance  department_HR  department_Legal  \\\n",
       "5066                    0              0                 0   \n",
       "22468                   0              0                 0   \n",
       "12341                   0              0                 0   \n",
       "44564                   0              0                 0   \n",
       "8999                    0              1                 0   \n",
       "\n",
       "       department_Operations  department_Procurement  department_R&D  \\\n",
       "5066                       0                       0               0   \n",
       "22468                      0                       0               0   \n",
       "12341                      0                       0               0   \n",
       "44564                      1                       0               0   \n",
       "8999                       0                       0               0   \n",
       "\n",
       "       department_Sales & Marketing  department_Technology  gender_f  gender_m  \n",
       "5066                              1                      0         0         1  \n",
       "22468                             0                      1         0         1  \n",
       "12341                             1                      0         0         1  \n",
       "44564                             0                      0         0         1  \n",
       "8999                              0                      0         1         0  "
      ]
     },
     "execution_count": 15,
     "metadata": {},
     "output_type": "execute_result"
    }
   ],
   "source": [
    "#preprocessing:\n",
    "final_df = clean_train.copy()\n",
    "\n",
    "# encoding categorical variables\n",
    "dummies_data = pd.get_dummies(final_df[['department', 'gender']])\n",
    "final_df['education'].replace({\"Below Secondary\": 1, \"Bachelor's\": 2, \"Master's & above\": 3}, inplace = True)\n",
    "\n",
    "# adding converted columns\n",
    "final_df = pd.concat([final_df,dummies_data], axis = 'columns')\n",
    "\n",
    "# droping old categorical columns\n",
    "final_df.drop(columns = ['id', 'gender', 'department'], inplace = True)\n",
    "\n",
    "# testing\n",
    "final_df.sample(5)"
   ]
  },
  {
   "cell_type": "code",
   "execution_count": 16,
   "id": "hazardous-spider",
   "metadata": {},
   "outputs": [],
   "source": [
    "# seprating between target variable and features\n",
    "data_df = final_df.drop(columns = ['promoted'])\n",
    "target_df = final_df['promoted']"
   ]
  },
  {
   "cell_type": "code",
   "execution_count": 17,
   "id": "criminal-oxygen",
   "metadata": {},
   "outputs": [
    {
     "data": {
      "image/png": "[encoded data removed]",
      "text/plain": [
       "<Figure size 1080x360 with 1 Axes>"
      ]
     },
     "metadata": {},
     "output_type": "display_data"
    }
   ],
   "source": [
    "# promotion ratio\n",
    "plt.figure(figsize=(15,5))\n",
    "\n",
    "# testing\n",
    "promoted_counts = target_df.value_counts(sort = False)\n",
    "plt.pie(promoted_counts, labels = promoted_counts.index, autopct = '%1.1f%%', startangle = 90, counterclock = False)\n",
    "plt.title(\"Promoted\");"
   ]
  },
  {
   "cell_type": "code",
   "execution_count": 18,
   "id": "heard-plant",
   "metadata": {
    "scrolled": true
   },
   "outputs": [
    {
     "data": {
      "image/png": "[encoded data removed]",
      "text/plain": [
       "<Figure size 1080x360 with 1 Axes>"
      ]
     },
     "metadata": {},
     "output_type": "display_data"
    }
   ],
   "source": [
    "# using SMOTE to handle the imbalnced data\n",
    "oversampling = SMOTE()\n",
    "data_df, target_df = oversampling.fit_resample(data_df, target_df)\n",
    "\n",
    "#testing\n",
    "plt.figure(figsize=(15,5))\n",
    "fitted_counts = target_df.value_counts(sort = False)\n",
    "plt.pie(fitted_counts, labels = fitted_counts.index, autopct = '%1.1f%%', startangle = 90, counterclock = False)\n",
    "plt.title(\"Promoted\");"
   ]
  },
  {
   "cell_type": "code",
   "execution_count": 19,
   "id": "tracked-district",
   "metadata": {},
   "outputs": [],
   "source": [
    "# splitting our data into 80 % for training and 20% testing\n",
    "X_train, X_test, y_train, y_test = train_test_split(data_df, target_df, test_size = 0.2, random_state = 42)"
   ]
  },
  {
   "cell_type": "markdown",
   "id": "located-plastic",
   "metadata": {},
   "source": [
    "### Logistic Regression:"
   ]
  },
  {
   "cell_type": "code",
   "execution_count": 20,
   "id": "declared-terminal",
   "metadata": {},
   "outputs": [
    {
     "name": "stdout",
     "output_type": "stream",
     "text": [
      "Logistic Regression coefficient of determination R2: 0.82\n"
     ]
    }
   ],
   "source": [
    "# creating a logistic regression model and applying it to our data\n",
    "lr_pipe = make_pipeline(StandardScaler(), lr(class_weight = \"balanced\"))\n",
    "lr_pipe.fit(X_train, y_train)\n",
    "\n",
    "# testing \n",
    "print(\"Logistic Regression coefficient of determination R2: {}\".format(round(lr_pipe.score(X_test, y_test), 2)))"
   ]
  },
  {
   "cell_type": "code",
   "execution_count": 21,
   "id": "circular-harrison",
   "metadata": {
    "scrolled": true
   },
   "outputs": [
    {
     "name": "stdout",
     "output_type": "stream",
     "text": [
      "scores of each feature: [7.166e+02 3.603e+03 2.129e+02 9.424e+03 2.287e+02 8.529e+03 5.586e+02\n",
      " 8.712e+03 8.440e+01 6.759e+02 1.405e+03 6.120e+02 4.558e+02 2.324e+02\n",
      " 3.935e+02 1.333e+03 7.705e+00 1.391e+03 1.087e+03]\n",
      "selected features: {'', 'trainings', 'KPI_80', 'avg_training_score', 'prev_year_rating'}\n"
     ]
    }
   ],
   "source": [
    "# we were trying to inhance the accurracy using Uni variate feature selection techniques but it ended up reducing the accurracy using different k values\n",
    "# k = 4 reduced the accuracy to 70.49%\n",
    "\n",
    "'''uni_test = SelectKBest(score_func = f_classif, k = 4)\n",
    "uni_fit = uni_test.fit(data_df, target_df)\n",
    "\n",
    "np.set_printoptions(precision = 3)\n",
    "print(\"scores of each feature: %s\" %uni_fit.scores_)\n",
    "\n",
    "uni_trans = uni_fit.transform(data_df)\n",
    "df_f = pd.DataFrame(uni_trans)\n",
    "\n",
    "uni_f = uni_test.get_support()*data_df.columns\n",
    "print(\"selected features: %s\" %set(uni_f))'''"
   ]
  },
  {
   "cell_type": "code",
   "execution_count": 22,
   "id": "sapphire-equation",
   "metadata": {
    "scrolled": true
   },
   "outputs": [
    {
     "data": {
      "image/png": "[encoded data removed]",
      "text/plain": [
       "<Figure size 432x288 with 2 Axes>"
      ]
     },
     "metadata": {},
     "output_type": "display_data"
    }
   ],
   "source": [
    "# Confusion matrix\n",
    "y_pred = lr_pipe.predict(X_test)\n",
    "\n",
    "metrics.plot_confusion_matrix(lr_pipe, X_test, y_test)\n",
    "plt.title('confusion matrix');"
   ]
  },
  {
   "cell_type": "code",
   "execution_count": 23,
   "id": "nonprofit-wisdom",
   "metadata": {
    "scrolled": true
   },
   "outputs": [
    {
     "name": "stdout",
     "output_type": "stream",
     "text": [
      "              precision    recall  f1-score   support\n",
      "\n",
      "not Promoted       0.81      0.84      0.82      9525\n",
      "    promoted       0.83      0.80      0.82      9612\n",
      "\n",
      "    accuracy                           0.82     19137\n",
      "   macro avg       0.82      0.82      0.82     19137\n",
      "weighted avg       0.82      0.82      0.82     19137\n",
      "\n"
     ]
    }
   ],
   "source": [
    "# classification report summary:\n",
    "print(metrics.classification_report(y_test, y_pred, target_names = ['not Promoted', 'promoted']))"
   ]
  },
  {
   "cell_type": "markdown",
   "id": "personalized-tennessee",
   "metadata": {},
   "source": [
    "### RandomForest Tree:"
   ]
  },
  {
   "cell_type": "code",
   "execution_count": 24,
   "id": "complete-furniture",
   "metadata": {},
   "outputs": [
    {
     "name": "stdout",
     "output_type": "stream",
     "text": [
      "Random Forest Classifier Accuracy: 94.86%\n"
     ]
    }
   ],
   "source": [
    "# creating the model and fitting it to the test data\n",
    "rf_model = RandomForestClassifier(n_estimators = 100, n_jobs = -1)\n",
    "rf_model.fit(X_train, y_train)\n",
    "\n",
    "# Make predictions for the test set\n",
    "rf_pred = rf_model.predict(X_test)\n",
    "print(\"Random Forest Classifier Accuracy: {}%\".format(round(metrics.accuracy_score(y_test, rf_pred)* 100, 2)))"
   ]
  },
  {
   "cell_type": "code",
   "execution_count": 25,
   "id": "measured-victory",
   "metadata": {},
   "outputs": [
    {
     "data": {
      "text/plain": [
       "avg_training_score              0.271455\n",
       "prev_year_rating                0.182330\n",
       "age                             0.117181\n",
       "KPI_80                          0.090425\n",
       "experience                      0.076732\n",
       "gender_m                        0.038189\n",
       "gender_f                        0.027297\n",
       "trainings                       0.025370\n",
       "department_Operations           0.023061\n",
       "department_Analytics            0.022032\n",
       "department_Procurement          0.021447\n",
       "department_Sales & Marketing    0.020869\n",
       "department_Technology           0.019740\n",
       "department_Finance              0.013860\n",
       "education                       0.012372\n",
       "department_HR                   0.011253\n",
       "department_Legal                0.010159\n",
       "department_R&D                  0.010120\n",
       "awards_won                      0.006108\n",
       "dtype: float64"
      ]
     },
     "execution_count": 25,
     "metadata": {},
     "output_type": "execute_result"
    }
   ],
   "source": [
    "# top features affecting the model\n",
    "top_features = pd.Series(rf_model.feature_importances_,index = data_df.columns).sort_values(ascending = False)\n",
    "top_features"
   ]
  },
  {
   "cell_type": "code",
   "execution_count": 26,
   "id": "compact-bangkok",
   "metadata": {},
   "outputs": [
    {
     "data": {
      "image/png": "[encoded data removed]",
      "text/plain": [
       "<Figure size 432x288 with 2 Axes>"
      ]
     },
     "metadata": {},
     "output_type": "display_data"
    }
   ],
   "source": [
    "metrics.plot_confusion_matrix(rf_model, X_test, y_test)\n",
    "plt.title('confusion matrix');"
   ]
  },
  {
   "cell_type": "code",
   "execution_count": 27,
   "id": "sustainable-vegetable",
   "metadata": {},
   "outputs": [
    {
     "name": "stdout",
     "output_type": "stream",
     "text": [
      "              precision    recall  f1-score   support\n",
      "\n",
      "not Promoted       0.96      0.94      0.95      9525\n",
      "    promoted       0.94      0.96      0.95      9612\n",
      "\n",
      "    accuracy                           0.95     19137\n",
      "   macro avg       0.95      0.95      0.95     19137\n",
      "weighted avg       0.95      0.95      0.95     19137\n",
      "\n"
     ]
    }
   ],
   "source": [
    "# classification report summary:\n",
    "print(metrics.classification_report(y_test, rf_pred, target_names = ['not Promoted', 'promoted']))"
   ]
  },
  {
   "cell_type": "code",
   "execution_count": 28,
   "id": "consecutive-thumb",
   "metadata": {},
   "outputs": [
    {
     "data": {
      "text/html": [
       "<div>\n",
       "<style scoped>\n",
       "    .dataframe tbody tr th:only-of-type {\n",
       "        vertical-align: middle;\n",
       "    }\n",
       "\n",
       "    .dataframe tbody tr th {\n",
       "        vertical-align: top;\n",
       "    }\n",
       "\n",
       "    .dataframe thead th {\n",
       "        text-align: right;\n",
       "    }\n",
       "</style>\n",
       "<table border=\"1\" class=\"dataframe\">\n",
       "  <thead>\n",
       "    <tr style=\"text-align: right;\">\n",
       "      <th></th>\n",
       "      <th>education</th>\n",
       "      <th>trainings</th>\n",
       "      <th>age</th>\n",
       "      <th>prev_year_rating</th>\n",
       "      <th>experience</th>\n",
       "      <th>KPI_80</th>\n",
       "      <th>awards_won</th>\n",
       "      <th>avg_training_score</th>\n",
       "      <th>department_Analytics</th>\n",
       "      <th>department_Finance</th>\n",
       "      <th>department_HR</th>\n",
       "      <th>department_Legal</th>\n",
       "      <th>department_Operations</th>\n",
       "      <th>department_Procurement</th>\n",
       "      <th>department_R&amp;D</th>\n",
       "      <th>department_Sales &amp; Marketing</th>\n",
       "      <th>department_Technology</th>\n",
       "      <th>gender_f</th>\n",
       "      <th>gender_m</th>\n",
       "    </tr>\n",
       "  </thead>\n",
       "  <tbody>\n",
       "    <tr>\n",
       "      <th>0</th>\n",
       "      <td>2</td>\n",
       "      <td>1</td>\n",
       "      <td>24</td>\n",
       "      <td>3.0</td>\n",
       "      <td>1</td>\n",
       "      <td>1</td>\n",
       "      <td>0</td>\n",
       "      <td>77</td>\n",
       "      <td>0</td>\n",
       "      <td>0</td>\n",
       "      <td>0</td>\n",
       "      <td>0</td>\n",
       "      <td>0</td>\n",
       "      <td>0</td>\n",
       "      <td>0</td>\n",
       "      <td>0</td>\n",
       "      <td>1</td>\n",
       "      <td>0</td>\n",
       "      <td>1</td>\n",
       "    </tr>\n",
       "    <tr>\n",
       "      <th>1</th>\n",
       "      <td>2</td>\n",
       "      <td>1</td>\n",
       "      <td>31</td>\n",
       "      <td>3.0</td>\n",
       "      <td>5</td>\n",
       "      <td>0</td>\n",
       "      <td>0</td>\n",
       "      <td>51</td>\n",
       "      <td>0</td>\n",
       "      <td>0</td>\n",
       "      <td>1</td>\n",
       "      <td>0</td>\n",
       "      <td>0</td>\n",
       "      <td>0</td>\n",
       "      <td>0</td>\n",
       "      <td>0</td>\n",
       "      <td>0</td>\n",
       "      <td>1</td>\n",
       "      <td>0</td>\n",
       "    </tr>\n",
       "    <tr>\n",
       "      <th>2</th>\n",
       "      <td>2</td>\n",
       "      <td>1</td>\n",
       "      <td>31</td>\n",
       "      <td>1.0</td>\n",
       "      <td>4</td>\n",
       "      <td>0</td>\n",
       "      <td>0</td>\n",
       "      <td>47</td>\n",
       "      <td>0</td>\n",
       "      <td>0</td>\n",
       "      <td>0</td>\n",
       "      <td>0</td>\n",
       "      <td>0</td>\n",
       "      <td>0</td>\n",
       "      <td>0</td>\n",
       "      <td>1</td>\n",
       "      <td>0</td>\n",
       "      <td>0</td>\n",
       "      <td>1</td>\n",
       "    </tr>\n",
       "    <tr>\n",
       "      <th>3</th>\n",
       "      <td>2</td>\n",
       "      <td>3</td>\n",
       "      <td>31</td>\n",
       "      <td>2.0</td>\n",
       "      <td>9</td>\n",
       "      <td>0</td>\n",
       "      <td>0</td>\n",
       "      <td>65</td>\n",
       "      <td>0</td>\n",
       "      <td>0</td>\n",
       "      <td>0</td>\n",
       "      <td>0</td>\n",
       "      <td>0</td>\n",
       "      <td>1</td>\n",
       "      <td>0</td>\n",
       "      <td>0</td>\n",
       "      <td>0</td>\n",
       "      <td>1</td>\n",
       "      <td>0</td>\n",
       "    </tr>\n",
       "    <tr>\n",
       "      <th>4</th>\n",
       "      <td>2</td>\n",
       "      <td>1</td>\n",
       "      <td>30</td>\n",
       "      <td>4.0</td>\n",
       "      <td>7</td>\n",
       "      <td>0</td>\n",
       "      <td>0</td>\n",
       "      <td>61</td>\n",
       "      <td>0</td>\n",
       "      <td>1</td>\n",
       "      <td>0</td>\n",
       "      <td>0</td>\n",
       "      <td>0</td>\n",
       "      <td>0</td>\n",
       "      <td>0</td>\n",
       "      <td>0</td>\n",
       "      <td>0</td>\n",
       "      <td>0</td>\n",
       "      <td>1</td>\n",
       "    </tr>\n",
       "  </tbody>\n",
       "</table>\n",
       "</div>"
      ],
      "text/plain": [
       "   education  trainings  age  prev_year_rating  experience  KPI_80  \\\n",
       "0          2          1   24               3.0           1       1   \n",
       "1          2          1   31               3.0           5       0   \n",
       "2          2          1   31               1.0           4       0   \n",
       "3          2          3   31               2.0           9       0   \n",
       "4          2          1   30               4.0           7       0   \n",
       "\n",
       "   awards_won  avg_training_score  department_Analytics  department_Finance  \\\n",
       "0           0                  77                     0                   0   \n",
       "1           0                  51                     0                   0   \n",
       "2           0                  47                     0                   0   \n",
       "3           0                  65                     0                   0   \n",
       "4           0                  61                     0                   1   \n",
       "\n",
       "   department_HR  department_Legal  department_Operations  \\\n",
       "0              0                 0                      0   \n",
       "1              1                 0                      0   \n",
       "2              0                 0                      0   \n",
       "3              0                 0                      0   \n",
       "4              0                 0                      0   \n",
       "\n",
       "   department_Procurement  department_R&D  department_Sales & Marketing  \\\n",
       "0                       0               0                             0   \n",
       "1                       0               0                             0   \n",
       "2                       0               0                             1   \n",
       "3                       1               0                             0   \n",
       "4                       0               0                             0   \n",
       "\n",
       "   department_Technology  gender_f  gender_m  \n",
       "0                      1         0         1  \n",
       "1                      0         1         0  \n",
       "2                      0         0         1  \n",
       "3                      0         1         0  \n",
       "4                      0         0         1  "
      ]
     },
     "execution_count": 28,
     "metadata": {},
     "output_type": "execute_result"
    }
   ],
   "source": [
    "#readining our goal dataset and preparing it for model\n",
    "\n",
    "test_df = pd.read_csv('test_data.csv')\n",
    "\n",
    "#Removing outliers from trainings\n",
    "trainings_quantile = test_df.trainings.quantile(0.99)\n",
    "test_df = test_df[(test_df.trainings < trainings_quantile)]\n",
    "\n",
    "#Removing outliers from trainings\n",
    "experience_quantile = test_df.experience.quantile(0.97)\n",
    "test_df = test_df[(test_df.experience < experience_quantile)]\n",
    "\n",
    "#replacing the nulls in prev_year_rating with median\n",
    "Imputed_ratings = SimpleImputer(strategy = 'median').fit(test_df[['prev_year_rating']])\n",
    "test_df.prev_year_rating = Imputed_ratings.transform(test_df[['prev_year_rating']])\n",
    "\n",
    "#replacing the nulls in education with most frequent value\n",
    "Imputed_edu = SimpleImputer(strategy = 'most_frequent').fit(test_df[['education']])\n",
    "test_df.education = Imputed_edu.transform(test_df[['education']])\n",
    "\n",
    "\n",
    "# encoding categorical variables\n",
    "dummies_data = pd.get_dummies(test_df[['department', 'gender']])\n",
    "test_df['education'].replace({\"Below Secondary\": 1, \"Bachelor's\": 2, \"Master's & above\": 3}, inplace = True)\n",
    "\n",
    "# adding converted columns\n",
    "test_df = pd.concat([test_df, dummies_data], axis = 'columns')\n",
    "\n",
    "# droping old categorical columns\n",
    "test_df.drop(columns = ['id', 'gender', 'department'], inplace = True)\n",
    "\n",
    "# final touch ✨\n",
    "clean_train.reset_index(drop = True, inplace = True)\n",
    "\n",
    "# testing\n",
    "test_df.head()"
   ]
  },
  {
   "cell_type": "code",
   "execution_count": 29,
   "id": "sublime-island",
   "metadata": {
    "scrolled": false
   },
   "outputs": [
    {
     "data": {
      "text/plain": [
       "array([[0.425, 0.575],\n",
       "       [0.974, 0.026],\n",
       "       [0.963, 0.037],\n",
       "       ...,\n",
       "       [0.967, 0.033],\n",
       "       [0.977, 0.023],\n",
       "       [0.242, 0.758]])"
      ]
     },
     "execution_count": 29,
     "metadata": {},
     "output_type": "execute_result"
    }
   ],
   "source": [
    "# probability of each individual employee to get promoted\n",
    "lr_pipe.predict_proba(test_df)"
   ]
  },
  {
   "cell_type": "code",
   "execution_count": 30,
   "id": "rental-manner",
   "metadata": {
    "scrolled": false
   },
   "outputs": [
    {
     "data": {
      "text/html": [
       "<div>\n",
       "<style scoped>\n",
       "    .dataframe tbody tr th:only-of-type {\n",
       "        vertical-align: middle;\n",
       "    }\n",
       "\n",
       "    .dataframe tbody tr th {\n",
       "        vertical-align: top;\n",
       "    }\n",
       "\n",
       "    .dataframe thead th {\n",
       "        text-align: right;\n",
       "    }\n",
       "</style>\n",
       "<table border=\"1\" class=\"dataframe\">\n",
       "  <thead>\n",
       "    <tr style=\"text-align: right;\">\n",
       "      <th></th>\n",
       "      <th>education</th>\n",
       "      <th>trainings</th>\n",
       "      <th>age</th>\n",
       "      <th>prev_year_rating</th>\n",
       "      <th>experience</th>\n",
       "      <th>KPI_80</th>\n",
       "      <th>awards_won</th>\n",
       "      <th>avg_training_score</th>\n",
       "      <th>department_Analytics</th>\n",
       "      <th>department_Finance</th>\n",
       "      <th>...</th>\n",
       "      <th>department_Legal</th>\n",
       "      <th>department_Operations</th>\n",
       "      <th>department_Procurement</th>\n",
       "      <th>department_R&amp;D</th>\n",
       "      <th>department_Sales &amp; Marketing</th>\n",
       "      <th>department_Technology</th>\n",
       "      <th>gender_f</th>\n",
       "      <th>gender_m</th>\n",
       "      <th>lr_promoted</th>\n",
       "      <th>rf_promored</th>\n",
       "    </tr>\n",
       "  </thead>\n",
       "  <tbody>\n",
       "    <tr>\n",
       "      <th>0</th>\n",
       "      <td>2</td>\n",
       "      <td>1</td>\n",
       "      <td>24</td>\n",
       "      <td>3.0</td>\n",
       "      <td>1</td>\n",
       "      <td>1</td>\n",
       "      <td>0</td>\n",
       "      <td>77</td>\n",
       "      <td>0</td>\n",
       "      <td>0</td>\n",
       "      <td>...</td>\n",
       "      <td>0</td>\n",
       "      <td>0</td>\n",
       "      <td>0</td>\n",
       "      <td>0</td>\n",
       "      <td>0</td>\n",
       "      <td>1</td>\n",
       "      <td>0</td>\n",
       "      <td>1</td>\n",
       "      <td>1.0</td>\n",
       "      <td>0.0</td>\n",
       "    </tr>\n",
       "    <tr>\n",
       "      <th>1</th>\n",
       "      <td>2</td>\n",
       "      <td>1</td>\n",
       "      <td>31</td>\n",
       "      <td>3.0</td>\n",
       "      <td>5</td>\n",
       "      <td>0</td>\n",
       "      <td>0</td>\n",
       "      <td>51</td>\n",
       "      <td>0</td>\n",
       "      <td>0</td>\n",
       "      <td>...</td>\n",
       "      <td>0</td>\n",
       "      <td>0</td>\n",
       "      <td>0</td>\n",
       "      <td>0</td>\n",
       "      <td>0</td>\n",
       "      <td>0</td>\n",
       "      <td>1</td>\n",
       "      <td>0</td>\n",
       "      <td>0.0</td>\n",
       "      <td>0.0</td>\n",
       "    </tr>\n",
       "    <tr>\n",
       "      <th>2</th>\n",
       "      <td>2</td>\n",
       "      <td>1</td>\n",
       "      <td>31</td>\n",
       "      <td>1.0</td>\n",
       "      <td>4</td>\n",
       "      <td>0</td>\n",
       "      <td>0</td>\n",
       "      <td>47</td>\n",
       "      <td>0</td>\n",
       "      <td>0</td>\n",
       "      <td>...</td>\n",
       "      <td>0</td>\n",
       "      <td>0</td>\n",
       "      <td>0</td>\n",
       "      <td>0</td>\n",
       "      <td>1</td>\n",
       "      <td>0</td>\n",
       "      <td>0</td>\n",
       "      <td>1</td>\n",
       "      <td>0.0</td>\n",
       "      <td>0.0</td>\n",
       "    </tr>\n",
       "    <tr>\n",
       "      <th>3</th>\n",
       "      <td>2</td>\n",
       "      <td>3</td>\n",
       "      <td>31</td>\n",
       "      <td>2.0</td>\n",
       "      <td>9</td>\n",
       "      <td>0</td>\n",
       "      <td>0</td>\n",
       "      <td>65</td>\n",
       "      <td>0</td>\n",
       "      <td>0</td>\n",
       "      <td>...</td>\n",
       "      <td>0</td>\n",
       "      <td>0</td>\n",
       "      <td>1</td>\n",
       "      <td>0</td>\n",
       "      <td>0</td>\n",
       "      <td>0</td>\n",
       "      <td>1</td>\n",
       "      <td>0</td>\n",
       "      <td>0.0</td>\n",
       "      <td>0.0</td>\n",
       "    </tr>\n",
       "    <tr>\n",
       "      <th>4</th>\n",
       "      <td>2</td>\n",
       "      <td>1</td>\n",
       "      <td>30</td>\n",
       "      <td>4.0</td>\n",
       "      <td>7</td>\n",
       "      <td>0</td>\n",
       "      <td>0</td>\n",
       "      <td>61</td>\n",
       "      <td>0</td>\n",
       "      <td>1</td>\n",
       "      <td>...</td>\n",
       "      <td>0</td>\n",
       "      <td>0</td>\n",
       "      <td>0</td>\n",
       "      <td>0</td>\n",
       "      <td>0</td>\n",
       "      <td>0</td>\n",
       "      <td>0</td>\n",
       "      <td>1</td>\n",
       "      <td>0.0</td>\n",
       "      <td>0.0</td>\n",
       "    </tr>\n",
       "  </tbody>\n",
       "</table>\n",
       "<p>5 rows × 21 columns</p>\n",
       "</div>"
      ],
      "text/plain": [
       "   education  trainings  age  prev_year_rating  experience  KPI_80  \\\n",
       "0          2          1   24               3.0           1       1   \n",
       "1          2          1   31               3.0           5       0   \n",
       "2          2          1   31               1.0           4       0   \n",
       "3          2          3   31               2.0           9       0   \n",
       "4          2          1   30               4.0           7       0   \n",
       "\n",
       "   awards_won  avg_training_score  department_Analytics  department_Finance  \\\n",
       "0           0                  77                     0                   0   \n",
       "1           0                  51                     0                   0   \n",
       "2           0                  47                     0                   0   \n",
       "3           0                  65                     0                   0   \n",
       "4           0                  61                     0                   1   \n",
       "\n",
       "   ...  department_Legal  department_Operations  department_Procurement  \\\n",
       "0  ...                 0                      0                       0   \n",
       "1  ...                 0                      0                       0   \n",
       "2  ...                 0                      0                       0   \n",
       "3  ...                 0                      0                       1   \n",
       "4  ...                 0                      0                       0   \n",
       "\n",
       "   department_R&D  department_Sales & Marketing  department_Technology  \\\n",
       "0               0                             0                      1   \n",
       "1               0                             0                      0   \n",
       "2               0                             1                      0   \n",
       "3               0                             0                      0   \n",
       "4               0                             0                      0   \n",
       "\n",
       "   gender_f  gender_m  lr_promoted  rf_promored  \n",
       "0         0         1          1.0          0.0  \n",
       "1         1         0          0.0          0.0  \n",
       "2         0         1          0.0          0.0  \n",
       "3         1         0          0.0          0.0  \n",
       "4         0         1          0.0          0.0  \n",
       "\n",
       "[5 rows x 21 columns]"
      ]
     },
     "execution_count": 30,
     "metadata": {},
     "output_type": "execute_result"
    }
   ],
   "source": [
    "# using our models in predection \n",
    "\n",
    "lr_promoted = pd.Series(lr_pipe.predict(test_df))\n",
    "rf_promored = pd.Series(rf_model.predict(test_df))\n",
    "\n",
    "test_df['lr_promoted'] = lr_promoted\n",
    "test_df['rf_promored'] = rf_promored\n",
    "test_df.head()"
   ]
  }
 ],
 "metadata": {
  "kernelspec": {
   "display_name": "Python 3",
   "language": "python",
   "name": "python3"
  },
  "language_info": {
   "codemirror_mode": {
    "name": "ipython",
    "version": 3
   },
   "file_extension": ".py",
   "mimetype": "text/x-python",
   "name": "python",
   "nbconvert_exporter": "python",
   "pygments_lexer": "ipython3",
   "version": "3.8.5"
  }
 },
 "nbformat": 4,
 "nbformat_minor": 5
}
